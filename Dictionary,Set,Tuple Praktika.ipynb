{
 "cells": [
  {
   "cell_type": "code",
   "execution_count": 1,
   "id": "b37e7987-b45f-4bfe-8f63-3730f3327984",
   "metadata": {},
   "outputs": [],
   "source": [
    "myList=['BMW','Mercedes','Renault','KIA']"
   ]
  },
  {
   "cell_type": "code",
   "execution_count": 2,
   "id": "97a4e158-4f26-439b-99f0-d50201093bc3",
   "metadata": {},
   "outputs": [],
   "source": [
    "myList.append('Hyundai')"
   ]
  },
  {
   "cell_type": "code",
   "execution_count": 3,
   "id": "4b2a5c20-e260-45a9-bc5e-287c02ace375",
   "metadata": {},
   "outputs": [
    {
     "data": {
      "text/plain": [
       "['BMW', 'Mercedes', 'Renault', 'KIA', 'Hyundai']"
      ]
     },
     "execution_count": 3,
     "metadata": {},
     "output_type": "execute_result"
    }
   ],
   "source": [
    "myList"
   ]
  },
  {
   "cell_type": "code",
   "execution_count": 5,
   "id": "003a2727-9961-45f6-83ce-576ea69b953a",
   "metadata": {},
   "outputs": [
    {
     "name": "stdin",
     "output_type": "stream",
     "text": [
      "Adi daxil edin: Jiguli\n"
     ]
    }
   ],
   "source": [
    "myList.append(input('Adi daxil edin:'))"
   ]
  },
  {
   "cell_type": "code",
   "execution_count": 6,
   "id": "d31c3118-2c5a-4759-9cfe-a5ec3e31c4ed",
   "metadata": {},
   "outputs": [
    {
     "data": {
      "text/plain": [
       "['BMW', 'Mercedes', 'Renault', 'KIA', 'Hyundai', 'Jiguli']"
      ]
     },
     "execution_count": 6,
     "metadata": {},
     "output_type": "execute_result"
    }
   ],
   "source": [
    "myList"
   ]
  },
  {
   "cell_type": "code",
   "execution_count": 7,
   "id": "d5f22ebd-adab-4aa0-8577-b8de4f7371b2",
   "metadata": {},
   "outputs": [
    {
     "name": "stdin",
     "output_type": "stream",
     "text": [
      "Daxil edin: Jiguli\n"
     ]
    }
   ],
   "source": [
    "x=input('Daxil edin:')\n",
    "myList.remove(x)"
   ]
  },
  {
   "cell_type": "code",
   "execution_count": 8,
   "id": "5c53b1b7-e9ef-4a17-a083-c85684a78619",
   "metadata": {},
   "outputs": [
    {
     "data": {
      "text/plain": [
       "['BMW', 'Mercedes', 'Renault', 'KIA', 'Hyundai']"
      ]
     },
     "execution_count": 8,
     "metadata": {},
     "output_type": "execute_result"
    }
   ],
   "source": [
    "myList"
   ]
  },
  {
   "cell_type": "code",
   "execution_count": 13,
   "id": "a763aeee-0a51-4f67-a5f6-23234823acc9",
   "metadata": {},
   "outputs": [],
   "source": [
    "a='Salam'\n",
    "myList=['a','b','c']"
   ]
  },
  {
   "cell_type": "code",
   "execution_count": 14,
   "id": "deec6213-304a-4cb0-b326-73729a52cdaa",
   "metadata": {},
   "outputs": [],
   "source": [
    "myList.extend(list(a))"
   ]
  },
  {
   "cell_type": "code",
   "execution_count": 18,
   "id": "b61f45ff-9c84-41ca-9507-399c3486b8d5",
   "metadata": {},
   "outputs": [
    {
     "data": {
      "text/plain": [
       "['a', 'b', 'c', 'S', 'a', 'a', 'm']"
      ]
     },
     "execution_count": 18,
     "metadata": {},
     "output_type": "execute_result"
    }
   ],
   "source": [
    "myList"
   ]
  },
  {
   "cell_type": "code",
   "execution_count": 17,
   "id": "d793103d-34d4-49fb-98bb-e8107b77d2f5",
   "metadata": {},
   "outputs": [],
   "source": [
    "myList.remove(myList[5])"
   ]
  },
  {
   "cell_type": "code",
   "execution_count": 19,
   "id": "e821237b-8ad7-41db-a0f2-09aad781ca99",
   "metadata": {},
   "outputs": [
    {
     "data": {
      "text/plain": [
       "'a'"
      ]
     },
     "execution_count": 19,
     "metadata": {},
     "output_type": "execute_result"
    }
   ],
   "source": [
    "myList.pop(5)"
   ]
  },
  {
   "cell_type": "code",
   "execution_count": 23,
   "id": "ffa7c233-12b5-48ca-ad17-c3b3c4141278",
   "metadata": {},
   "outputs": [],
   "source": [
    "myList=[20,30,50,40,70]"
   ]
  },
  {
   "cell_type": "code",
   "execution_count": 22,
   "id": "ab231558-9ca3-4b15-ba95-f651bbd4cbb5",
   "metadata": {},
   "outputs": [
    {
     "data": {
      "text/plain": [
       "True"
      ]
     },
     "execution_count": 22,
     "metadata": {},
     "output_type": "execute_result"
    }
   ],
   "source": [
    "myList[1]%2==0\n"
   ]
  },
  {
   "cell_type": "code",
   "execution_count": 24,
   "id": "42f89e6c-7cd0-4b73-9def-6f8535924161",
   "metadata": {},
   "outputs": [
    {
     "data": {
      "text/plain": [
       "True"
      ]
     },
     "execution_count": 24,
     "metadata": {},
     "output_type": "execute_result"
    }
   ],
   "source": [
    "x=myList.pop(1)\n",
    "x%2==0"
   ]
  },
  {
   "cell_type": "code",
   "execution_count": 28,
   "id": "921de61f-888f-4d64-8080-edf259b66e55",
   "metadata": {},
   "outputs": [
    {
     "name": "stdout",
     "output_type": "stream",
     "text": [
      "bolunmur\n"
     ]
    }
   ],
   "source": [
    "if myList[1]%7==0:\n",
    "    print('cut')\n",
    "else:\n",
    "    print('bolunmur')"
   ]
  },
  {
   "cell_type": "code",
   "execution_count": 30,
   "id": "5aab6e5e-6f79-4ddb-91e1-0484e133c4e7",
   "metadata": {},
   "outputs": [],
   "source": [
    "myList.append(40)"
   ]
  },
  {
   "cell_type": "code",
   "execution_count": 31,
   "id": "0b2a605f-7a42-4cf7-81b9-2455e97d29ef",
   "metadata": {},
   "outputs": [
    {
     "data": {
      "text/plain": [
       "[20, 50, 40, 70, 40, 40]"
      ]
     },
     "execution_count": 31,
     "metadata": {},
     "output_type": "execute_result"
    }
   ],
   "source": [
    "myList"
   ]
  },
  {
   "cell_type": "code",
   "execution_count": 32,
   "id": "5208957f-0ad9-498a-831b-74f232462786",
   "metadata": {},
   "outputs": [
    {
     "data": {
      "text/plain": [
       "3"
      ]
     },
     "execution_count": 32,
     "metadata": {},
     "output_type": "execute_result"
    }
   ],
   "source": [
    "myList.count(40)"
   ]
  },
  {
   "cell_type": "code",
   "execution_count": 33,
   "id": "f8edf6e7-c347-4523-ab65-48f9b1f2e83e",
   "metadata": {},
   "outputs": [],
   "source": [
    "myList.reverse()"
   ]
  },
  {
   "cell_type": "code",
   "execution_count": 37,
   "id": "9e2ab415-e3a1-4460-aa57-c37cb1df19fa",
   "metadata": {},
   "outputs": [
    {
     "data": {
      "text/plain": [
       "0"
      ]
     },
     "execution_count": 37,
     "metadata": {},
     "output_type": "execute_result"
    }
   ],
   "source": [
    "myList.index(40)"
   ]
  },
  {
   "cell_type": "code",
   "execution_count": 35,
   "id": "3d0abf2b-0d4f-4d85-8f52-c14115fd4801",
   "metadata": {},
   "outputs": [
    {
     "data": {
      "text/plain": [
       "[40, 40, 70, 40, 50, 20]"
      ]
     },
     "execution_count": 35,
     "metadata": {},
     "output_type": "execute_result"
    }
   ],
   "source": [
    "myList"
   ]
  },
  {
   "cell_type": "code",
   "execution_count": 40,
   "id": "907f10f2-3c40-4c85-96dc-2c2138517932",
   "metadata": {},
   "outputs": [
    {
     "data": {
      "text/plain": [
       "5"
      ]
     },
     "execution_count": 40,
     "metadata": {},
     "output_type": "execute_result"
    }
   ],
   "source": [
    "len(myList)-1"
   ]
  },
  {
   "cell_type": "code",
   "execution_count": 44,
   "id": "aec58b85-db25-4490-938d-64a9923002b7",
   "metadata": {},
   "outputs": [],
   "source": [
    "my_list=['Tural',30,'Masin','Raul',-40,'Salam']"
   ]
  },
  {
   "cell_type": "code",
   "execution_count": 48,
   "id": "e5f2d08b-63fa-41e2-88b7-0da7e536772e",
   "metadata": {},
   "outputs": [],
   "source": [
    "my_list=['Tural','Masin','Raul','Salam']"
   ]
  },
  {
   "cell_type": "code",
   "execution_count": 56,
   "id": "58b3fb33-7fd3-44bf-87ad-8dcfac56da1f",
   "metadata": {},
   "outputs": [],
   "source": [
    "my_list.sort(reverse=True)"
   ]
  },
  {
   "cell_type": "code",
   "execution_count": 57,
   "id": "9660f8c1-a627-4e76-b66b-f5eef9151945",
   "metadata": {},
   "outputs": [
    {
     "data": {
      "text/plain": [
       "['Tural', 'Salam', 'Raul', 'Masin']"
      ]
     },
     "execution_count": 57,
     "metadata": {},
     "output_type": "execute_result"
    }
   ],
   "source": [
    "my_list"
   ]
  },
  {
   "cell_type": "code",
   "execution_count": 58,
   "id": "0b55fac4-da3e-45dd-b745-13fefe31cebf",
   "metadata": {},
   "outputs": [],
   "source": [
    "my_list.clear()"
   ]
  },
  {
   "cell_type": "code",
   "execution_count": 59,
   "id": "cab0430d-d2ad-4779-974c-db6dcdf93270",
   "metadata": {},
   "outputs": [],
   "source": [
    "del my_list"
   ]
  },
  {
   "cell_type": "code",
   "execution_count": 62,
   "id": "f7de4d74-ee30-426e-ab84-9c42b69e197c",
   "metadata": {},
   "outputs": [],
   "source": [
    "my_dict={'olke':'Azerbaycan',\n",
    "         'paytaxt':'Baki',\n",
    "         'ehali':10}"
   ]
  },
  {
   "cell_type": "code",
   "execution_count": 65,
   "id": "8f66b89f-6ba9-41ba-9a90-7854b941a999",
   "metadata": {},
   "outputs": [
    {
     "data": {
      "text/plain": [
       "dict_keys(['olke', 'paytaxt', 'ehali'])"
      ]
     },
     "execution_count": 65,
     "metadata": {},
     "output_type": "execute_result"
    }
   ],
   "source": [
    "my_dict.keys()\n"
   ]
  },
  {
   "cell_type": "code",
   "execution_count": 66,
   "id": "b5dbfece-3006-4f11-bbcd-c026dfb85d33",
   "metadata": {},
   "outputs": [
    {
     "data": {
      "text/plain": [
       "dict_values(['Azerbaycan', 'Baki', 10])"
      ]
     },
     "execution_count": 66,
     "metadata": {},
     "output_type": "execute_result"
    }
   ],
   "source": [
    "my_dict.values()"
   ]
  },
  {
   "cell_type": "code",
   "execution_count": 70,
   "id": "db7cdc2b-2a96-4a76-b1b3-a85f2f5a90ba",
   "metadata": {},
   "outputs": [
    {
     "data": {
      "text/plain": [
       "dict_items([('olke', 'Azerbaycan'), ('paytaxt', 'Baki'), ('ehali', 10)])"
      ]
     },
     "execution_count": 70,
     "metadata": {},
     "output_type": "execute_result"
    }
   ],
   "source": [
    "my_dict.items()"
   ]
  },
  {
   "cell_type": "code",
   "execution_count": 72,
   "id": "6a525b60-99d2-431e-8a91-a3d5160f25aa",
   "metadata": {},
   "outputs": [],
   "source": [
    "my_dict.update({'deniz':'Xezer'})"
   ]
  },
  {
   "cell_type": "code",
   "execution_count": 73,
   "id": "74be4b1a-279d-4a97-b855-3dbe0bcd89de",
   "metadata": {},
   "outputs": [
    {
     "data": {
      "text/plain": [
       "{'olke': 'Azerbaycan', 'paytaxt': 'Baki', 'ehali': 10, 'deniz': 'Xezer'}"
      ]
     },
     "execution_count": 73,
     "metadata": {},
     "output_type": "execute_result"
    }
   ],
   "source": [
    "my_dict"
   ]
  },
  {
   "cell_type": "code",
   "execution_count": 74,
   "id": "3330ac36-3824-46f2-a5ed-76f9ff552584",
   "metadata": {},
   "outputs": [],
   "source": [
    "dag={'Dag':'Shahdag'}"
   ]
  },
  {
   "cell_type": "code",
   "execution_count": 77,
   "id": "55c3948b-0566-499a-9e2e-cc5f992071f1",
   "metadata": {},
   "outputs": [],
   "source": [
    "my_dict.update(dag)"
   ]
  },
  {
   "cell_type": "code",
   "execution_count": 78,
   "id": "4f80c2ca-c2b5-49d2-9013-0b28350562d7",
   "metadata": {},
   "outputs": [
    {
     "data": {
      "text/plain": [
       "{'olke': 'Azerbaycan',\n",
       " 'paytaxt': 'Baki',\n",
       " 'ehali': 10,\n",
       " 'deniz': 'Xezer',\n",
       " 'Dag': 'Shahdag'}"
      ]
     },
     "execution_count": 78,
     "metadata": {},
     "output_type": "execute_result"
    }
   ],
   "source": [
    "my_dict"
   ]
  },
  {
   "cell_type": "code",
   "execution_count": 80,
   "id": "204651aa-53d4-4c90-8901-064520ac19f1",
   "metadata": {},
   "outputs": [
    {
     "data": {
      "text/plain": [
       "10"
      ]
     },
     "execution_count": 80,
     "metadata": {},
     "output_type": "execute_result"
    }
   ],
   "source": [
    "my_dict.pop('ehali')"
   ]
  },
  {
   "cell_type": "code",
   "execution_count": 81,
   "id": "49fd4d54-e9d0-417a-be61-92f483021302",
   "metadata": {},
   "outputs": [],
   "source": [
    "x=[]"
   ]
  },
  {
   "cell_type": "code",
   "execution_count": 82,
   "id": "60367da1-10cd-4366-b750-787f03083ce2",
   "metadata": {},
   "outputs": [],
   "source": [
    "y=''"
   ]
  },
  {
   "cell_type": "code",
   "execution_count": 83,
   "id": "c9065ac8-fd7a-45dc-b30e-4cd0ec76c31d",
   "metadata": {},
   "outputs": [],
   "source": [
    "z=0"
   ]
  },
  {
   "cell_type": "code",
   "execution_count": 84,
   "id": "d7f00f06-3707-416b-828f-7168f5cc97ac",
   "metadata": {},
   "outputs": [],
   "source": [
    "my_dict.clear()"
   ]
  },
  {
   "cell_type": "code",
   "execution_count": 87,
   "id": "3848509e-a267-42a3-9b9f-a9645e05edd1",
   "metadata": {},
   "outputs": [],
   "source": [
    "mySet={1,2,5,7,8,9,0,10}"
   ]
  },
  {
   "cell_type": "code",
   "execution_count": 88,
   "id": "41b1e44c-6bb1-4f2d-b173-4e6c75f94873",
   "metadata": {},
   "outputs": [
    {
     "data": {
      "text/plain": [
       "{0, 1, 2, 5, 7, 8, 9, 10}"
      ]
     },
     "execution_count": 88,
     "metadata": {},
     "output_type": "execute_result"
    }
   ],
   "source": [
    "mySet"
   ]
  },
  {
   "cell_type": "code",
   "execution_count": 90,
   "id": "8853ea5d-63c0-4ff2-bf66-2aab073dbd41",
   "metadata": {},
   "outputs": [],
   "source": [
    "mySet.remove(2)"
   ]
  },
  {
   "cell_type": "code",
   "execution_count": 91,
   "id": "d02a057e-85bf-477e-bb52-4b33ab8cdddc",
   "metadata": {},
   "outputs": [],
   "source": [
    "mySet.clear()"
   ]
  },
  {
   "cell_type": "code",
   "execution_count": 94,
   "id": "2aedac50-e67f-4c19-a36e-3b528e7f32fd",
   "metadata": {},
   "outputs": [],
   "source": [
    "myTupl=(1,5,78,48,18)"
   ]
  },
  {
   "cell_type": "code",
   "execution_count": 95,
   "id": "bc7c411d-8c7b-4eb8-93b9-28579a7efe76",
   "metadata": {},
   "outputs": [
    {
     "data": {
      "text/plain": [
       "(1, 5, 78, 48, 18)"
      ]
     },
     "execution_count": 95,
     "metadata": {},
     "output_type": "execute_result"
    }
   ],
   "source": [
    "myTupl"
   ]
  },
  {
   "cell_type": "code",
   "execution_count": 96,
   "id": "5f6bb27d-8397-4023-9702-e35f20218425",
   "metadata": {},
   "outputs": [
    {
     "data": {
      "text/plain": [
       "1"
      ]
     },
     "execution_count": 96,
     "metadata": {},
     "output_type": "execute_result"
    }
   ],
   "source": [
    "myTupl[0]"
   ]
  },
  {
   "cell_type": "markdown",
   "id": "c8317ef6-bef8-4387-84f7-1a00fef8b14f",
   "metadata": {},
   "source": [
    "List,Dictionary, SET-de olan POP ile bagli tapsiriqlara bag ferqlere bax sintaks esasende"
   ]
  },
  {
   "cell_type": "code",
   "execution_count": null,
   "id": "98c4e35c-2653-445e-9eaa-3069251a24a9",
   "metadata": {},
   "outputs": [],
   "source": []
  },
  {
   "cell_type": "code",
   "execution_count": null,
   "id": "0c837898-3ba9-42b1-ab7f-2e918c91d2de",
   "metadata": {},
   "outputs": [],
   "source": []
  },
  {
   "cell_type": "code",
   "execution_count": null,
   "id": "6055f691-2d60-46d8-9244-4538758ead7b",
   "metadata": {},
   "outputs": [],
   "source": []
  },
  {
   "cell_type": "code",
   "execution_count": null,
   "id": "06f961b2-bc27-4b54-afb8-6a7a50058e09",
   "metadata": {},
   "outputs": [],
   "source": []
  },
  {
   "cell_type": "code",
   "execution_count": null,
   "id": "0e094a3f-1a36-42fc-89a6-9f1eb869f0b8",
   "metadata": {},
   "outputs": [],
   "source": []
  },
  {
   "cell_type": "code",
   "execution_count": null,
   "id": "905e164c-9d82-4171-b101-826c1f56297d",
   "metadata": {},
   "outputs": [],
   "source": []
  }
 ],
 "metadata": {
  "kernelspec": {
   "display_name": "Python 3 (ipykernel)",
   "language": "python",
   "name": "python3"
  },
  "language_info": {
   "codemirror_mode": {
    "name": "ipython",
    "version": 3
   },
   "file_extension": ".py",
   "mimetype": "text/x-python",
   "name": "python",
   "nbconvert_exporter": "python",
   "pygments_lexer": "ipython3",
   "version": "3.12.7"
  }
 },
 "nbformat": 4,
 "nbformat_minor": 5
}
