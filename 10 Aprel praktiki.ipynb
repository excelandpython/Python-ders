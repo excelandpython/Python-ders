{
 "cells": [
  {
   "cell_type": "markdown",
   "id": "46156188-19e4-4456-b467-69fb7405b75d",
   "metadata": {},
   "source": [
    "Praktiki Ders 2"
   ]
  },
  {
   "cell_type": "code",
   "execution_count": 1,
   "id": "55e798bb-76a8-483e-80d9-cc01337626e8",
   "metadata": {},
   "outputs": [],
   "source": [
    "a='at'"
   ]
  },
  {
   "cell_type": "code",
   "execution_count": 2,
   "id": "bdd1ebfb-4531-4c94-87c5-5880ab943484",
   "metadata": {},
   "outputs": [
    {
     "name": "stdout",
     "output_type": "stream",
     "text": [
      "at\n"
     ]
    }
   ],
   "source": [
    "print(a)"
   ]
  },
  {
   "cell_type": "code",
   "execution_count": 3,
   "id": "ea6c1a34-530b-47bd-9491-4ae323276e72",
   "metadata": {},
   "outputs": [
    {
     "data": {
      "text/plain": [
       "str"
      ]
     },
     "execution_count": 3,
     "metadata": {},
     "output_type": "execute_result"
    }
   ],
   "source": [
    "type(a)"
   ]
  },
  {
   "cell_type": "code",
   "execution_count": 4,
   "id": "0b9a1c38-137f-497a-8880-a9c8ea2071d9",
   "metadata": {},
   "outputs": [],
   "source": [
    "b='1941'"
   ]
  },
  {
   "cell_type": "code",
   "execution_count": 5,
   "id": "9313bdd2-df62-4741-b141-e29ba13fd9d6",
   "metadata": {},
   "outputs": [
    {
     "name": "stdout",
     "output_type": "stream",
     "text": [
      "1941\n"
     ]
    }
   ],
   "source": [
    "print(b)"
   ]
  },
  {
   "cell_type": "code",
   "execution_count": 6,
   "id": "6542ebc5-8594-4d47-a24b-2d617180c67c",
   "metadata": {},
   "outputs": [
    {
     "data": {
      "text/plain": [
       "str"
      ]
     },
     "execution_count": 6,
     "metadata": {},
     "output_type": "execute_result"
    }
   ],
   "source": [
    "type(b)"
   ]
  },
  {
   "cell_type": "code",
   "execution_count": 7,
   "id": "82db395a-1562-4f73-b488-6ddf69fc50aa",
   "metadata": {},
   "outputs": [
    {
     "data": {
      "text/plain": [
       "1941"
      ]
     },
     "execution_count": 7,
     "metadata": {},
     "output_type": "execute_result"
    }
   ],
   "source": [
    "int(b)"
   ]
  },
  {
   "cell_type": "code",
   "execution_count": 8,
   "id": "ddacc90a-868e-47d9-aa13-c74b7fdfe543",
   "metadata": {},
   "outputs": [
    {
     "name": "stdout",
     "output_type": "stream",
     "text": [
      "1941\n"
     ]
    }
   ],
   "source": [
    "print(b)"
   ]
  },
  {
   "cell_type": "code",
   "execution_count": 9,
   "id": "7acc4ea2-52f1-4597-a382-29210cf5dbd3",
   "metadata": {},
   "outputs": [
    {
     "data": {
      "text/plain": [
       "str"
      ]
     },
     "execution_count": 9,
     "metadata": {},
     "output_type": "execute_result"
    }
   ],
   "source": [
    "type(b)"
   ]
  },
  {
   "cell_type": "code",
   "execution_count": 10,
   "id": "792964b2-6c2b-4d4f-99e0-8dec1e951fa1",
   "metadata": {},
   "outputs": [],
   "source": [
    "b=int(b)"
   ]
  },
  {
   "cell_type": "code",
   "execution_count": 11,
   "id": "5d64ba82-23dc-44a0-bb9f-922beaaca8b8",
   "metadata": {},
   "outputs": [
    {
     "data": {
      "text/plain": [
       "int"
      ]
     },
     "execution_count": 11,
     "metadata": {},
     "output_type": "execute_result"
    }
   ],
   "source": [
    "type(b)"
   ]
  },
  {
   "cell_type": "code",
   "execution_count": 12,
   "id": "538e2029-a5fe-4741-95ac-a36f856c61ec",
   "metadata": {},
   "outputs": [],
   "source": [
    "c='179'"
   ]
  },
  {
   "cell_type": "code",
   "execution_count": 13,
   "id": "8be26a84-429f-4be6-b468-342486518828",
   "metadata": {},
   "outputs": [
    {
     "data": {
      "text/plain": [
       "str"
      ]
     },
     "execution_count": 13,
     "metadata": {},
     "output_type": "execute_result"
    }
   ],
   "source": [
    "type(c)"
   ]
  },
  {
   "cell_type": "code",
   "execution_count": 14,
   "id": "8db0af57-db98-4879-8db2-e6f0c15b7a2c",
   "metadata": {},
   "outputs": [],
   "source": [
    "c=int(c)"
   ]
  },
  {
   "cell_type": "code",
   "execution_count": 15,
   "id": "f5fd82a1-acfa-4f8e-8804-7a9e66aeacfc",
   "metadata": {},
   "outputs": [
    {
     "data": {
      "text/plain": [
       "int"
      ]
     },
     "execution_count": 15,
     "metadata": {},
     "output_type": "execute_result"
    }
   ],
   "source": [
    "type(c)"
   ]
  },
  {
   "cell_type": "code",
   "execution_count": 16,
   "id": "3e845c32-6840-4e06-8206-ae6e061c3f85",
   "metadata": {},
   "outputs": [],
   "source": [
    "c=float(c)"
   ]
  },
  {
   "cell_type": "code",
   "execution_count": 17,
   "id": "eb558e2d-792d-4690-9c8b-e75a237d4f6c",
   "metadata": {},
   "outputs": [
    {
     "data": {
      "text/plain": [
       "float"
      ]
     },
     "execution_count": 17,
     "metadata": {},
     "output_type": "execute_result"
    }
   ],
   "source": [
    "type(c)"
   ]
  },
  {
   "cell_type": "code",
   "execution_count": 19,
   "id": "4f52a14a-37f4-47d4-98bf-6f2b7cdab962",
   "metadata": {},
   "outputs": [],
   "source": [
    "s='Samaxi'\n",
    "d='Baki'\n",
    "m='130'"
   ]
  },
  {
   "cell_type": "code",
   "execution_count": 20,
   "id": "dc8ecbdd-090d-40ee-be2c-cde78daaf609",
   "metadata": {},
   "outputs": [],
   "source": [
    "y=(s+'dan'+' '+d+'ya'+' '+m+'km')"
   ]
  },
  {
   "cell_type": "code",
   "execution_count": 21,
   "id": "667f9f08-5d28-497c-aebe-c2d8a82e35d6",
   "metadata": {},
   "outputs": [
    {
     "name": "stdout",
     "output_type": "stream",
     "text": [
      "Samaxidan Bakiya 130km\n"
     ]
    }
   ],
   "source": [
    "print(y)"
   ]
  },
  {
   "cell_type": "code",
   "execution_count": 23,
   "id": "c1cef8d9-5f79-4039-80a3-88c7da3b0f63",
   "metadata": {},
   "outputs": [
    {
     "name": "stdout",
     "output_type": "stream",
     "text": [
      "Menim adim Turaldir\n"
     ]
    }
   ],
   "source": [
    "print('Menim adim Turaldir')"
   ]
  },
  {
   "cell_type": "code",
   "execution_count": 25,
   "id": "e6f704d6-b48b-4c43-a33c-b4fb400a39d7",
   "metadata": {},
   "outputs": [],
   "source": [
    "i=1823\n",
    "m='Turkmencay muqavilesi'"
   ]
  },
  {
   "cell_type": "code",
   "execution_count": 26,
   "id": "cf4deaee-f732-40a1-8e8e-9cc7c3acd106",
   "metadata": {},
   "outputs": [],
   "source": [
    "#1823 ilde Turkmencay muqavilesi baglanmisdir\n",
    "p=str(i)+'ilde'+' '+m+' '+'baglanmisdir'"
   ]
  },
  {
   "cell_type": "code",
   "execution_count": 27,
   "id": "7465187e-3a24-4987-8602-c1a8e20ce8f2",
   "metadata": {},
   "outputs": [
    {
     "name": "stdout",
     "output_type": "stream",
     "text": [
      "1823ilde Turkmencay muqavilesi baglanmisdir\n"
     ]
    }
   ],
   "source": [
    "print(p)"
   ]
  },
  {
   "cell_type": "code",
   "execution_count": 29,
   "id": "28a9a503-812a-472f-a28a-63a9da96a8ee",
   "metadata": {},
   "outputs": [],
   "source": [
    "#Cavadzade Suzanna 10 yasinda resm cekib\n",
    "ad='Suzanna'\n",
    "soyad='Cavadzade'\n",
    "yas=10"
   ]
  },
  {
   "cell_type": "code",
   "execution_count": 31,
   "id": "8919d617-37c8-4ab3-98ed-3606e97bc439",
   "metadata": {},
   "outputs": [],
   "source": [
    "l=(soyad+' '+ad+' '+str(yas)+' '+'yasinda resm cekib')"
   ]
  },
  {
   "cell_type": "code",
   "execution_count": 32,
   "id": "234c6de4-8e39-4ad0-8ae7-189ab2752c24",
   "metadata": {},
   "outputs": [
    {
     "name": "stdout",
     "output_type": "stream",
     "text": [
      "Cavadzade Suzanna 10 yasinda resm cekib\n"
     ]
    }
   ],
   "source": [
    "print(l)"
   ]
  },
  {
   "cell_type": "markdown",
   "id": "0b5097e2-713c-412d-b9c3-20345beb09d9",
   "metadata": {},
   "source": [
    "Riyazi emeliyyatlar"
   ]
  },
  {
   "cell_type": "code",
   "execution_count": 33,
   "id": "2026c7f2-4de2-40c5-b4d5-63de47b6bf35",
   "metadata": {},
   "outputs": [],
   "source": [
    "f=10\n",
    "d=35"
   ]
  },
  {
   "cell_type": "code",
   "execution_count": 34,
   "id": "79cb0d64-0cd4-4501-ab47-aceec567072d",
   "metadata": {},
   "outputs": [
    {
     "data": {
      "text/plain": [
       "45"
      ]
     },
     "execution_count": 34,
     "metadata": {},
     "output_type": "execute_result"
    }
   ],
   "source": [
    "f+d"
   ]
  },
  {
   "cell_type": "code",
   "execution_count": 35,
   "id": "d2c7019d-0ca4-41da-8d1c-6e39a24da8c2",
   "metadata": {
    "jp-MarkdownHeadingCollapsed": true
   },
   "outputs": [
    {
     "data": {
      "text/plain": [
       "-25"
      ]
     },
     "execution_count": 35,
     "metadata": {},
     "output_type": "execute_result"
    }
   ],
   "source": [
    "f-d"
   ]
  },
  {
   "cell_type": "code",
   "execution_count": 36,
   "id": "938145da-8f0b-4feb-9df4-5fe89c639ce7",
   "metadata": {},
   "outputs": [
    {
     "data": {
      "text/plain": [
       "350"
      ]
     },
     "execution_count": 36,
     "metadata": {},
     "output_type": "execute_result"
    }
   ],
   "source": [
    "f*d"
   ]
  },
  {
   "cell_type": "code",
   "execution_count": 37,
   "id": "3f068ca4-2ae7-4b22-b24d-0b06c00d5b0e",
   "metadata": {},
   "outputs": [
    {
     "data": {
      "text/plain": [
       "0.2857142857142857"
      ]
     },
     "execution_count": 37,
     "metadata": {},
     "output_type": "execute_result"
    }
   ],
   "source": [
    "f/d"
   ]
  },
  {
   "cell_type": "code",
   "execution_count": 38,
   "id": "ac9e4454-3211-4929-a0be-c6108786aa57",
   "metadata": {},
   "outputs": [
    {
     "data": {
      "text/plain": [
       "5"
      ]
     },
     "execution_count": 38,
     "metadata": {},
     "output_type": "execute_result"
    }
   ],
   "source": [
    "f//2"
   ]
  },
  {
   "cell_type": "code",
   "execution_count": 39,
   "id": "094985a7-a983-47ad-a472-22b79974e9d0",
   "metadata": {},
   "outputs": [
    {
     "data": {
      "text/plain": [
       "3"
      ]
     },
     "execution_count": 39,
     "metadata": {},
     "output_type": "execute_result"
    }
   ],
   "source": [
    "d//f"
   ]
  },
  {
   "cell_type": "code",
   "execution_count": 40,
   "id": "73165b8d-8220-495e-ac2c-de4d7b31829e",
   "metadata": {},
   "outputs": [
    {
     "data": {
      "text/plain": [
       "5"
      ]
     },
     "execution_count": 40,
     "metadata": {},
     "output_type": "execute_result"
    }
   ],
   "source": [
    "d%f"
   ]
  },
  {
   "cell_type": "code",
   "execution_count": 41,
   "id": "0f0bfe82-06d0-465f-877e-0002994c9333",
   "metadata": {},
   "outputs": [
    {
     "data": {
      "text/plain": [
       "False"
      ]
     },
     "execution_count": 41,
     "metadata": {},
     "output_type": "execute_result"
    }
   ],
   "source": [
    "d%2==0"
   ]
  },
  {
   "cell_type": "code",
   "execution_count": 42,
   "id": "dbbe29a5-b0da-4638-b682-6c3fe3f1c55c",
   "metadata": {},
   "outputs": [
    {
     "data": {
      "text/plain": [
       "True"
      ]
     },
     "execution_count": 42,
     "metadata": {},
     "output_type": "execute_result"
    }
   ],
   "source": [
    "f%2==0"
   ]
  },
  {
   "cell_type": "code",
   "execution_count": 43,
   "id": "28fc7266-a6b7-4219-8505-83b0a1dcb636",
   "metadata": {},
   "outputs": [],
   "source": [
    "s=42\n",
    "a=63"
   ]
  },
  {
   "cell_type": "code",
   "execution_count": 44,
   "id": "9648e393-6c8b-4786-ae1b-50ab716ca797",
   "metadata": {},
   "outputs": [
    {
     "data": {
      "text/plain": [
       "False"
      ]
     },
     "execution_count": 44,
     "metadata": {},
     "output_type": "execute_result"
    }
   ],
   "source": [
    "s>a"
   ]
  },
  {
   "cell_type": "code",
   "execution_count": 46,
   "id": "224e1088-f7ea-4e81-a88e-00420d6a9318",
   "metadata": {},
   "outputs": [
    {
     "data": {
      "text/plain": [
       "False"
      ]
     },
     "execution_count": 46,
     "metadata": {},
     "output_type": "execute_result"
    }
   ],
   "source": [
    "s>=a"
   ]
  },
  {
   "cell_type": "code",
   "execution_count": 47,
   "id": "4416f075-d4d6-470f-a270-d97d324b95bd",
   "metadata": {},
   "outputs": [
    {
     "data": {
      "text/plain": [
       "False"
      ]
     },
     "execution_count": 47,
     "metadata": {},
     "output_type": "execute_result"
    }
   ],
   "source": [
    "s==a"
   ]
  },
  {
   "cell_type": "code",
   "execution_count": 48,
   "id": "6e813c21-b939-4980-af59-19acd8498e13",
   "metadata": {},
   "outputs": [
    {
     "data": {
      "text/plain": [
       "True"
      ]
     },
     "execution_count": 48,
     "metadata": {},
     "output_type": "execute_result"
    }
   ],
   "source": [
    "s!=a"
   ]
  },
  {
   "cell_type": "code",
   "execution_count": 49,
   "id": "a25871a6-d665-43ab-b943-4f567ba6e056",
   "metadata": {},
   "outputs": [
    {
     "data": {
      "text/plain": [
       "9.333333333333334"
      ]
     },
     "execution_count": 49,
     "metadata": {},
     "output_type": "execute_result"
    }
   ],
   "source": [
    "28/3"
   ]
  },
  {
   "cell_type": "code",
   "execution_count": 50,
   "id": "8c8628ff-3615-4396-a096-54e4e143ae6c",
   "metadata": {},
   "outputs": [
    {
     "data": {
      "text/plain": [
       "1"
      ]
     },
     "execution_count": 50,
     "metadata": {},
     "output_type": "execute_result"
    }
   ],
   "source": [
    "28%3"
   ]
  },
  {
   "cell_type": "code",
   "execution_count": 51,
   "id": "be20e698-d4cf-406c-a16f-16fe46b8ebbc",
   "metadata": {},
   "outputs": [
    {
     "data": {
      "text/plain": [
       "1"
      ]
     },
     "execution_count": 51,
     "metadata": {},
     "output_type": "execute_result"
    }
   ],
   "source": [
    "9%2"
   ]
  },
  {
   "cell_type": "code",
   "execution_count": 52,
   "id": "62159ce8-dde2-4414-85a0-2bcea349b81b",
   "metadata": {},
   "outputs": [
    {
     "data": {
      "text/plain": [
       "9"
      ]
     },
     "execution_count": 52,
     "metadata": {},
     "output_type": "execute_result"
    }
   ],
   "source": [
    "28//3"
   ]
  },
  {
   "cell_type": "code",
   "execution_count": 53,
   "id": "9e72dafc-371f-4555-8fec-62f0fa9b0860",
   "metadata": {},
   "outputs": [
    {
     "data": {
      "text/plain": [
       "4"
      ]
     },
     "execution_count": 53,
     "metadata": {},
     "output_type": "execute_result"
    }
   ],
   "source": [
    "9//2"
   ]
  },
  {
   "cell_type": "code",
   "execution_count": 56,
   "id": "8d108824-8487-4da1-9936-3632120131a5",
   "metadata": {},
   "outputs": [
    {
     "data": {
      "text/plain": [
       "False"
      ]
     },
     "execution_count": 56,
     "metadata": {},
     "output_type": "execute_result"
    }
   ],
   "source": [
    "135%7==0"
   ]
  },
  {
   "cell_type": "code",
   "execution_count": 61,
   "id": "c958d431-651c-4c88-8c39-04000258413f",
   "metadata": {},
   "outputs": [
    {
     "data": {
      "text/plain": [
       "True"
      ]
     },
     "execution_count": 61,
     "metadata": {},
     "output_type": "execute_result"
    }
   ],
   "source": [
    "(16**3)%4==0"
   ]
  },
  {
   "cell_type": "code",
   "execution_count": 62,
   "id": "623e7ce3-0f73-4f9d-b8d5-877962ba1a5a",
   "metadata": {},
   "outputs": [
    {
     "data": {
      "text/plain": [
       "100057182526063251609955731737313406996339678061"
      ]
     },
     "execution_count": 62,
     "metadata": {},
     "output_type": "execute_result"
    }
   ],
   "source": [
    "(82**25)//7"
   ]
  },
  {
   "cell_type": "code",
   "execution_count": 63,
   "id": "09c87e0b-84be-4c85-98ad-d84b66fdd693",
   "metadata": {},
   "outputs": [],
   "source": [
    "x=10\n",
    "y=8\n",
    "z=6"
   ]
  },
  {
   "cell_type": "code",
   "execution_count": 64,
   "id": "de6e7601-93a0-43a6-bd67-6bd8ff5f1576",
   "metadata": {},
   "outputs": [
    {
     "data": {
      "text/plain": [
       "480"
      ]
     },
     "execution_count": 64,
     "metadata": {},
     "output_type": "execute_result"
    }
   ],
   "source": [
    "x*y*z"
   ]
  },
  {
   "cell_type": "code",
   "execution_count": 65,
   "id": "5263373f-66a7-4cd0-bb1e-2bf771bc6a0a",
   "metadata": {},
   "outputs": [
    {
     "data": {
      "text/plain": [
       "100000000"
      ]
     },
     "execution_count": 65,
     "metadata": {},
     "output_type": "execute_result"
    }
   ],
   "source": [
    "x**y"
   ]
  },
  {
   "cell_type": "code",
   "execution_count": 66,
   "id": "98b74a2a-9e7b-4862-b9a1-01ea59ed7da7",
   "metadata": {},
   "outputs": [
    {
     "data": {
      "text/plain": [
       "262144"
      ]
     },
     "execution_count": 66,
     "metadata": {},
     "output_type": "execute_result"
    }
   ],
   "source": [
    "y**z"
   ]
  },
  {
   "cell_type": "code",
   "execution_count": 67,
   "id": "819733fa-50a6-4415-bacb-72b86f9bb2a4",
   "metadata": {},
   "outputs": [
    {
     "data": {
      "text/plain": [
       "26214400000000"
      ]
     },
     "execution_count": 67,
     "metadata": {},
     "output_type": "execute_result"
    }
   ],
   "source": [
    "(x**y)*(y**z)"
   ]
  },
  {
   "cell_type": "code",
   "execution_count": 68,
   "id": "d2425e88-15d6-4502-9062-5d3faf229fd3",
   "metadata": {},
   "outputs": [
    {
     "data": {
      "text/plain": [
       "1000000000000000000000000000000000000000000000000"
      ]
     },
     "execution_count": 68,
     "metadata": {},
     "output_type": "execute_result"
    }
   ],
   "source": [
    "(x**y)**z"
   ]
  },
  {
   "cell_type": "code",
   "execution_count": 70,
   "id": "e7c800b3-caca-413e-a386-eb7b416e9f5d",
   "metadata": {},
   "outputs": [],
   "source": [
    "from math import *"
   ]
  },
  {
   "cell_type": "code",
   "execution_count": 71,
   "id": "992af877-dde4-4ab5-b224-382eae32dc4a",
   "metadata": {},
   "outputs": [
    {
     "data": {
      "text/plain": [
       "6.928203230275509"
      ]
     },
     "execution_count": 71,
     "metadata": {},
     "output_type": "execute_result"
    }
   ],
   "source": [
    "sqrt(y*z)"
   ]
  },
  {
   "cell_type": "code",
   "execution_count": 72,
   "id": "87e27846-4fbb-4840-8554-74b7a51f9124",
   "metadata": {},
   "outputs": [
    {
     "data": {
      "text/plain": [
       "2.8284271247461903"
      ]
     },
     "execution_count": 72,
     "metadata": {},
     "output_type": "execute_result"
    }
   ],
   "source": [
    "sqrt (8)"
   ]
  },
  {
   "cell_type": "code",
   "execution_count": 73,
   "id": "97fdcfdf-cf9a-4ad6-9951-bbd5b638cb24",
   "metadata": {},
   "outputs": [
    {
     "name": "stdout",
     "output_type": "stream",
     "text": [
      "52\n"
     ]
    }
   ],
   "source": [
    "x=5\n",
    "y=3\n",
    "z=(x**2)+(y**3)\n",
    "print(z)"
   ]
  },
  {
   "cell_type": "code",
   "execution_count": 75,
   "id": "4e4299b9-1471-4200-aaf3-6cb9ff141751",
   "metadata": {},
   "outputs": [
    {
     "data": {
      "text/plain": [
       "1.6666666666666665"
      ]
     },
     "execution_count": 75,
     "metadata": {},
     "output_type": "execute_result"
    }
   ],
   "source": [
    "(1/3)*x"
   ]
  },
  {
   "cell_type": "code",
   "execution_count": 76,
   "id": "cfa1122c-cd8f-4a4a-9fd0-f6c25cdd8552",
   "metadata": {},
   "outputs": [
    {
     "data": {
      "text/plain": [
       "224.99999999999997"
      ]
     },
     "execution_count": 76,
     "metadata": {},
     "output_type": "execute_result"
    }
   ],
   "source": [
    "(1/3)*x**2*(y**3)"
   ]
  },
  {
   "cell_type": "code",
   "execution_count": 77,
   "id": "073b68ea-c0c2-41cc-944d-96edd5989e44",
   "metadata": {},
   "outputs": [
    {
     "data": {
      "text/plain": [
       "9763444.857142856"
      ]
     },
     "execution_count": 77,
     "metadata": {},
     "output_type": "execute_result"
    }
   ],
   "source": [
    "(x**2)+(y**3)+(2/7)*(x**6)*(y**7)"
   ]
  },
  {
   "cell_type": "markdown",
   "id": "07cffb04-f91d-4aa4-a108-287b48279173",
   "metadata": {},
   "source": [
    "Kvadrat Tenlik"
   ]
  },
  {
   "cell_type": "code",
   "execution_count": 78,
   "id": "4fd4f455-35d5-4552-a7d8-8e4c917fd413",
   "metadata": {},
   "outputs": [],
   "source": [
    "b=9\n",
    "a=2\n",
    "c=4"
   ]
  },
  {
   "cell_type": "code",
   "execution_count": 79,
   "id": "d2fa7d77-00ce-46bc-83f7-75604d1762ec",
   "metadata": {},
   "outputs": [],
   "source": [
    "x=-b+sqrt(b**2-4*a*c)"
   ]
  },
  {
   "cell_type": "code",
   "execution_count": 80,
   "id": "31774275-ff33-461b-91c1-0294e3322492",
   "metadata": {},
   "outputs": [
    {
     "name": "stdout",
     "output_type": "stream",
     "text": [
      "-2.0\n"
     ]
    }
   ],
   "source": [
    "print(x)"
   ]
  },
  {
   "cell_type": "code",
   "execution_count": 81,
   "id": "fd2f26c6-21e7-4cfd-99dc-06dd0401fef8",
   "metadata": {},
   "outputs": [
    {
     "data": {
      "text/plain": [
       "True"
      ]
     },
     "execution_count": 81,
     "metadata": {},
     "output_type": "execute_result"
    }
   ],
   "source": [
    "x<0"
   ]
  },
  {
   "cell_type": "markdown",
   "id": "66cde811-2b26-4672-87f4-f4c05e232b2a",
   "metadata": {},
   "source": [
    "Hendese"
   ]
  },
  {
   "cell_type": "code",
   "execution_count": 82,
   "id": "c7e03856-5075-4faf-b174-73ac204cab62",
   "metadata": {},
   "outputs": [],
   "source": [
    "r=5"
   ]
  },
  {
   "cell_type": "code",
   "execution_count": 83,
   "id": "9de9072f-d306-4c75-9d11-ac33091b817f",
   "metadata": {},
   "outputs": [],
   "source": [
    "d=2*r"
   ]
  },
  {
   "cell_type": "code",
   "execution_count": 84,
   "id": "a290e892-53b4-4f50-b9fc-ac1c2344983f",
   "metadata": {},
   "outputs": [],
   "source": [
    "s=2*pi*r**2"
   ]
  },
  {
   "cell_type": "code",
   "execution_count": 85,
   "id": "773af435-1d1d-4a10-9528-116a55c65d08",
   "metadata": {},
   "outputs": [
    {
     "name": "stdout",
     "output_type": "stream",
     "text": [
      "157.07963267948966\n"
     ]
    }
   ],
   "source": [
    "print(s)"
   ]
  },
  {
   "cell_type": "code",
   "execution_count": 86,
   "id": "ea8bffb8-7e44-4d75-9299-71680cf52844",
   "metadata": {},
   "outputs": [],
   "source": [
    "r=6\n",
    "h=3\n",
    "v=pi*r**2*h"
   ]
  },
  {
   "cell_type": "code",
   "execution_count": 87,
   "id": "1be55f5c-1e36-43d2-8053-379b97b824f1",
   "metadata": {},
   "outputs": [
    {
     "name": "stdout",
     "output_type": "stream",
     "text": [
      "339.29200658769764\n"
     ]
    }
   ],
   "source": [
    "print(v)"
   ]
  },
  {
   "cell_type": "code",
   "execution_count": 88,
   "id": "a17fd93c-539a-42be-b951-336654c628c3",
   "metadata": {},
   "outputs": [],
   "source": [
    "a=4\n",
    "h=6\n",
    "s=(1/2)*a*h"
   ]
  },
  {
   "cell_type": "code",
   "execution_count": 89,
   "id": "18685ffe-3544-46e7-b3d4-8f746f14556f",
   "metadata": {},
   "outputs": [
    {
     "name": "stdout",
     "output_type": "stream",
     "text": [
      "12.0\n"
     ]
    }
   ],
   "source": [
    "print(s)"
   ]
  },
  {
   "cell_type": "code",
   "execution_count": 92,
   "id": "90646360-8b7a-4b1b-b12d-3f8b4a21b38f",
   "metadata": {},
   "outputs": [
    {
     "name": "stdin",
     "output_type": "stream",
     "text": [
      "adinizi daxil edin Nicat\n"
     ]
    }
   ],
   "source": [
    "a=input('adinizi daxil edin')"
   ]
  },
  {
   "cell_type": "code",
   "execution_count": 93,
   "id": "1cb456da-6f14-453f-a4a7-73965739bc73",
   "metadata": {},
   "outputs": [
    {
     "name": "stdout",
     "output_type": "stream",
     "text": [
      "Nicat\n"
     ]
    }
   ],
   "source": [
    "print(a)"
   ]
  },
  {
   "cell_type": "code",
   "execution_count": 94,
   "id": "1057ac91-b924-41b9-a205-149ad8a8f68c",
   "metadata": {},
   "outputs": [
    {
     "name": "stdin",
     "output_type": "stream",
     "text": [
      "Radiusu daxil et 5\n"
     ]
    }
   ],
   "source": [
    "r=input('Radiusu daxil et')"
   ]
  },
  {
   "cell_type": "code",
   "execution_count": 95,
   "id": "7097d7b6-609b-43c8-bee8-72284d6584a6",
   "metadata": {},
   "outputs": [
    {
     "data": {
      "text/plain": [
       "str"
      ]
     },
     "execution_count": 95,
     "metadata": {},
     "output_type": "execute_result"
    }
   ],
   "source": [
    "type(r)"
   ]
  },
  {
   "cell_type": "code",
   "execution_count": 104,
   "id": "c1748af3-41ce-4465-9c9b-017639b7bc3e",
   "metadata": {},
   "outputs": [
    {
     "name": "stdin",
     "output_type": "stream",
     "text": [
      "radiusu daxil et 9\n"
     ]
    },
    {
     "name": "stdout",
     "output_type": "stream",
     "text": [
      "1017.8760197630929\n"
     ]
    }
   ],
   "source": [
    "r=int(input ('radiusu daxil et'))\n",
    "s=4*pi*r**2\n",
    "print(s)"
   ]
  },
  {
   "cell_type": "code",
   "execution_count": 101,
   "id": "77c24cfd-d6a2-40e2-a8d4-11622a16083c",
   "metadata": {},
   "outputs": [],
   "source": [
    "v=3/4*pi*r**3"
   ]
  },
  {
   "cell_type": "code",
   "execution_count": 106,
   "id": "84788fa4-ea22-4994-ba8b-78dbc39ba02b",
   "metadata": {},
   "outputs": [
    {
     "name": "stdout",
     "output_type": "stream",
     "text": [
      "2356.194490192345\n"
     ]
    }
   ],
   "source": [
    "print(v)"
   ]
  },
  {
   "cell_type": "code",
   "execution_count": 105,
   "id": "8a40ceb2-e804-47a0-bf56-afce928cdbf0",
   "metadata": {},
   "outputs": [
    {
     "name": "stdout",
     "output_type": "stream",
     "text": [
      "9\n"
     ]
    }
   ],
   "source": [
    "print(r)"
   ]
  },
  {
   "cell_type": "code",
   "execution_count": 110,
   "id": "7d77a61e-2322-4cf9-a0fb-f06f44b7ecb2",
   "metadata": {},
   "outputs": [
    {
     "name": "stdout",
     "output_type": "stream",
     "text": [
      "Sahe: 1017.8760197630929\n"
     ]
    }
   ],
   "source": [
    "print('Sahe:',s)"
   ]
  },
  {
   "cell_type": "code",
   "execution_count": 114,
   "id": "bcb92201-ad46-4f4c-bfc4-88cf35cb4692",
   "metadata": {},
   "outputs": [
    {
     "name": "stdout",
     "output_type": "stream",
     "text": [
      "Kurenin sahesi    1017.8760197630929 e   beraberdir\n"
     ]
    }
   ],
   "source": [
    "print('Kurenin sahesi ' ,' ',s,'e', ' ', 'beraberdir')"
   ]
  },
  {
   "cell_type": "code",
   "execution_count": null,
   "id": "5bd9543b-02a7-4193-a040-6e505025a3e0",
   "metadata": {},
   "outputs": [],
   "source": []
  }
 ],
 "metadata": {
  "kernelspec": {
   "display_name": "Python 3 (ipykernel)",
   "language": "python",
   "name": "python3"
  },
  "language_info": {
   "codemirror_mode": {
    "name": "ipython",
    "version": 3
   },
   "file_extension": ".py",
   "mimetype": "text/x-python",
   "name": "python",
   "nbconvert_exporter": "python",
   "pygments_lexer": "ipython3",
   "version": "3.12.7"
  }
 },
 "nbformat": 4,
 "nbformat_minor": 5
}
